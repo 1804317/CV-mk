{
 "cells": [
  {
   "cell_type": "code",
   "execution_count": null,
   "metadata": {},
   "outputs": [],
   "source": [
    "import cv2\n",
    "  \n",
    "originalImage = cv2.imread('C:/Users/mkv/download/Test.jpg')\n",
    "grayImage = cv2.cvtColor(originalImage, cv2.COLOR_BGR2GRAY)\n",
    "  \n",
    "(thresh, blackAndWhiteImage) = cv2.threshold(grayImage, 127, 255, cv2.THRESH_BINARY)\n",
    " \n",
    "cv2.imshow('Black white image', blackAndWhiteImage)\n",
    "cv2.imshow('Original image',originalImage)\n",
    "cv2.imshow('Gray image', grayImage)\n",
    "  \n",
    "cv2.waitKey(0)\n",
    "cv2.destroyAllWindows()"
   ]
  },
  {
   "cell_type": "code",
   "execution_count": null,
   "metadata": {},
   "outputs": [],
   "source": [
    "import cv2\n",
    "image = cv2.imread('E:/maneesh/IMG_20180803_102555.jpg')\n",
    "gray_imag = cv2.cvtColor(image,cv2.COLOR_RGB2GRAY)\n",
    "cv2.imshow('Grayscale' ,gray_imag)\n",
    "cv2.waitKey()\n",
    "cv2.destroyAllWindows()\n",
    "a=image:copy()\n",
    "a[:,:,2]=0\n",
    "a[:,:,1]=0\n",
    "cv2.imshow('Bluescale',a)"
   ]
  },
  {
   "cell_type": "code",
   "execution_count": null,
   "metadata": {},
   "outputs": [],
   "source": []
  }
 ],
 "metadata": {
  "kernelspec": {
   "display_name": "Python 3",
   "language": "python",
   "name": "python3"
  },
  "language_info": {
   "codemirror_mode": {
    "name": "ipython",
    "version": 3
   },
   "file_extension": ".py",
   "mimetype": "text/x-python",
   "name": "python",
   "nbconvert_exporter": "python",
   "pygments_lexer": "ipython3",
   "version": "3.7.4"
  }
 },
 "nbformat": 4,
 "nbformat_minor": 2
}
